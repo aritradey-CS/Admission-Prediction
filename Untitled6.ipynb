{
  "nbformat": 4,
  "nbformat_minor": 0,
  "metadata": {
    "colab": {
      "provenance": [],
      "authorship_tag": "ABX9TyMFwuYYNH+4eHMQvTFYSz1l",
      "include_colab_link": true
    },
    "kernelspec": {
      "name": "python3",
      "display_name": "Python 3"
    },
    "language_info": {
      "name": "python"
    }
  },
  "cells": [
    {
      "cell_type": "markdown",
      "metadata": {
        "id": "view-in-github",
        "colab_type": "text"
      },
      "source": [
        "<a href=\"https://colab.research.google.com/github/aritradey-CS/Admission-Prediction/blob/master/Untitled6.ipynb\" target=\"_parent\"><img src=\"https://colab.research.google.com/assets/colab-badge.svg\" alt=\"Open In Colab\"/></a>"
      ]
    },
    {
      "cell_type": "code",
      "source": [
        "!pip install requests"
      ],
      "metadata": {
        "colab": {
          "base_uri": "https://localhost:8080/"
        },
        "id": "jI8Kc8JP6hZn",
        "outputId": "e9e6c38a-731f-49c1-999b-c885448154eb"
      },
      "execution_count": 3,
      "outputs": [
        {
          "output_type": "stream",
          "name": "stdout",
          "text": [
            "Looking in indexes: https://pypi.org/simple, https://us-python.pkg.dev/colab-wheels/public/simple/\n",
            "Requirement already satisfied: requests in /usr/local/lib/python3.10/dist-packages (2.27.1)\n",
            "Requirement already satisfied: urllib3<1.27,>=1.21.1 in /usr/local/lib/python3.10/dist-packages (from requests) (1.26.15)\n",
            "Requirement already satisfied: certifi>=2017.4.17 in /usr/local/lib/python3.10/dist-packages (from requests) (2022.12.7)\n",
            "Requirement already satisfied: charset-normalizer~=2.0.0 in /usr/local/lib/python3.10/dist-packages (from requests) (2.0.12)\n",
            "Requirement already satisfied: idna<4,>=2.5 in /usr/local/lib/python3.10/dist-packages (from requests) (3.4)\n"
          ]
        }
      ]
    },
    {
      "cell_type": "code",
      "execution_count": 4,
      "metadata": {
        "colab": {
          "base_uri": "https://localhost:8080/"
        },
        "id": "DAi7Ah4z4xNU",
        "outputId": "e5d3f38f-01fe-437a-a8af-14e999d6e8d4"
      },
      "outputs": [
        {
          "output_type": "stream",
          "name": "stdout",
          "text": [
            "Enter location: chinsurah\n",
            "Failed to retrieve weather forecast.\n",
            "No weather forecast data available.\n",
            "No weather forecast data available.\n"
          ]
        }
      ],
      "source": [
        "import requests\n",
        "import json\n",
        "from datetime import datetime, timedelta\n",
        "\n",
        "API_KEY = '<e9e8456d9b7bd69b36f452fdeff49419>'\n",
        "\n",
        "def get_weather_forecast(location):\n",
        "    url = f'https://api.weatherapi.com/v1/forecast.json?key={API_KEY}&q={location}&days=7'\n",
        "    response = requests.get(url)\n",
        "\n",
        "    if response.status_code == 200:\n",
        "        forecast_data = response.json()\n",
        "        return forecast_data\n",
        "    else:\n",
        "        print(\"Failed to retrieve weather forecast.\")\n",
        "        return None\n",
        "\n",
        "def display_weather_forecast(forecast_data):\n",
        "    if forecast_data is not None:\n",
        "        forecast_days = forecast_data['forecast']['forecastday']\n",
        "        print(\"Weather Forecast for the next 7 days:\")\n",
        "        print(\"-------------------------------------\")\n",
        "\n",
        "        for day in forecast_days:\n",
        "            date = datetime.strptime(day['date'], \"%Y-%m-%d\")\n",
        "            temperature = day['day']['avgtemp_c']\n",
        "            condition = day['day']['condition']['text']\n",
        "\n",
        "            print(f\"{date.strftime('%A')}: {temperature}°C, {condition}\")\n",
        "    else:\n",
        "        print(\"No weather forecast data available.\")\n",
        "\n",
        "def save_weather_forecast(forecast_data):\n",
        "    if forecast_data is not None:\n",
        "        forecast_days = forecast_data['forecast']['forecastday']\n",
        "\n",
        "        with open('weather_forecast.txt', 'w') as file:\n",
        "            file.write(\"Weather Forecast for the next 7 days:\\n\")\n",
        "            file.write(\"-------------------------------------\\n\")\n",
        "\n",
        "            for day in forecast_days:\n",
        "                date = datetime.strptime(day['date'], \"%Y-%m-%d\")\n",
        "                temperature = day['day']['avgtemp_c']\n",
        "                condition = day['day']['condition']['text']\n",
        "\n",
        "                file.write(f\"{date.strftime('%A')}: {temperature}°C, {condition}\\n\")\n",
        "\n",
        "        print(\"Weather forecast saved to 'weather_forecast.txt' file.\")\n",
        "    else:\n",
        "        print(\"No weather forecast data available.\")\n",
        "\n",
        "def get_user_location():\n",
        "    return input(\"Enter location: \")\n",
        "\n",
        "location = get_user_location()\n",
        "forecast_data = get_weather_forecast(location)\n",
        "display_weather_forecast(forecast_data)\n",
        "save_weather_forecast(forecast_data)\n"
      ]
    }
  ]
}