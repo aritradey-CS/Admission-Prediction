{
  "nbformat": 4,
  "nbformat_minor": 0,
  "metadata": {
    "colab": {
      "provenance": [],
      "authorship_tag": "ABX9TyNHj64NAqbuPt8XGhJbsxDQ",
      "include_colab_link": true
    },
    "kernelspec": {
      "name": "python3",
      "display_name": "Python 3"
    },
    "language_info": {
      "name": "python"
    }
  },
  "cells": [
    {
      "cell_type": "markdown",
      "metadata": {
        "id": "view-in-github",
        "colab_type": "text"
      },
      "source": [
        "<a href=\"https://colab.research.google.com/github/aritradey-CS/Admission-Prediction/blob/master/Nov_23_Update.ipynb\" target=\"_parent\"><img src=\"https://colab.research.google.com/assets/colab-badge.svg\" alt=\"Open In Colab\"/></a>"
      ]
    },
    {
      "cell_type": "code",
      "execution_count": 1,
      "metadata": {
        "colab": {
          "base_uri": "https://localhost:8080/"
        },
        "id": "6h5MVGt0R8pO",
        "outputId": "bd4ce9e0-f1e9-4d96-9db5-fa91d313f52c"
      },
      "outputs": [
        {
          "output_type": "stream",
          "name": "stdout",
          "text": [
            "Custom CSV file 'custom_data_correlated.csv' has been created and saved.\n"
          ]
        },
        {
          "output_type": "stream",
          "name": "stderr",
          "text": [
            "<ipython-input-1-6d50434fed8f>:17: RuntimeWarning: covariance is not positive-semidefinite.\n",
            "  data = np.random.multivariate_normal(mean=[0] * 8, cov=correlation_matrix, size=2000)\n"
          ]
        }
      ],
      "source": [
        "import pandas as pd\n",
        "import numpy as np\n",
        "import random\n",
        "\n",
        "correlation_matrix = np.array([\n",
        "    [1.0, 0.5, 0.3, 0.1, 0.2, 0.4, 0.6, 0.7],\n",
        "    [0.5, 1.0, 0.6, 0.2, 0.3, 0.2, 0.8, 0.9],\n",
        "    [0.3, 0.6, 1.0, 0.4, 0.7, 0.5, 0.3, 0.6],\n",
        "    [0.1, 0.2, 0.4, 1.0, 0.2, 0.3, 0.1, 0.2],\n",
        "    [0.2, 0.3, 0.7, 0.2, 1.0, 0.5, 0.2, 0.4],\n",
        "    [0.4, 0.2, 0.5, 0.3, 0.5, 1.0, 0.3, 0.7],\n",
        "    [0.6, 0.8, 0.3, 0.1, 0.2, 0.3, 1.0, 0.8],\n",
        "    [0.7, 0.9, 0.6, 0.2, 0.4, 0.7, 0.8, 1.0]\n",
        "])\n",
        "\n",
        "# Generate data with the specified correlation matrix\n",
        "data = np.random.multivariate_normal(mean=[0] * 8, cov=correlation_matrix, size=2000)\n",
        "\n",
        "# Create a DataFrame\n",
        "df = pd.DataFrame(data, columns=[\n",
        "    'GRE Score', 'TOEFL Score', 'University Rating', 'SOP', 'LOR', 'CGPA', 'Research', 'Chance of Admit'\n",
        "])\n",
        "\n",
        "# Adjust the scale and mean as needed for each column\n",
        "# You may need to adjust the scale and mean to match your specific requirements\n",
        "\n",
        "# Scale and mean values\n",
        "scale = [20, 10, 5, 12, 17, 1, 0.5, 0.2]\n",
        "mean = [320, 100, 3, 3, 3, 3, 0.5, 0.75]\n",
        "\n",
        "for i, col in enumerate(df.columns):\n",
        "    df[col] = df[col] * scale[i] + mean[i]\n",
        "\n",
        "# Save the DataFrame to a CSV file\n",
        "df.to_csv('custom_data_correlated.csv', index=False)\n",
        "\n",
        "print(\"Custom CSV file 'custom_data_correlated.csv' has been created and saved.\")\n"
      ]
    }
  ]
}